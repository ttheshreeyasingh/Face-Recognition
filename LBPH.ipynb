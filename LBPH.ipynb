{
 "cells": [
  {
   "cell_type": "code",
   "execution_count": null,
   "id": "78804f06",
   "metadata": {},
   "outputs": [],
   "source": [
    "# imports\n",
    "import cv2\n",
    "import matplotlib.pyplot as plt\n",
    "import numpy\n",
    "from sys import *\n",
    "import os\n",
    "from PIL import Image\n",
    "from sklearn.model_selection import train_test_split\n",
    "%matplotlib inline\n",
    "sys.path.append (\"..\")"
   ]
  },
  {
   "cell_type": "code",
   "execution_count": null,
   "id": "d22dcdb2",
   "metadata": {},
   "outputs": [],
   "source": [
    "def read_images(path, sz=None):\n",
    "    c = 0\n",
    "    X, y = [], []\n",
    "    subject_path = \"\"\n",
    "    # loop through each directory in the path and read images in each directory one by one \n",
    "    for root, dirs, files in os.walk(path):\n",
    "        for subdirs in dirs:\n",
    "            subject_path = os.path.join(root, subdirs)\n",
    "            for filename in os.listdir(subject_path):\n",
    "                try:\n",
    "                    file_path = os.path.join(subject_path, filename)\n",
    "                    # open image using PIL and convert it to grayscale and resize it to sz x sz pixels and append it to X and y\n",
    "                    img = Image.open(file_path)\n",
    "                    # single channel image so we convert it to 3 channel image by repeating the same pixel values 3 times for each channel\n",
    "                    img = img.convert(\"L\")\n",
    "                    # changes pixels\n",
    "                    if sz is not None:\n",
    "                        # Image.ANTIALIAS smoothens the jagged edges in image by averaging the colors of the pixels at a boundary\n",
    "                        img = img.resize(sz, Image.ANTIALIAS)\n",
    "                    # append image to X and label to y\n",
    "                    X.append(numpy.asarray(img, dtype=numpy.uint8))\n",
    "                    y.append(c)\n",
    "                except:\n",
    "                    print(\"Error :\", sys.exc_info()[0])\n",
    "                    raise\n",
    "            c = c+1\n",
    "    # return the images and labels\n",
    "    # print(y)\n",
    "    return [X, y]"
   ]
  },
  {
   "cell_type": "code",
   "execution_count": null,
   "id": "d17bc32c",
   "metadata": {},
   "outputs": [],
   "source": [
    "# define model\n",
    "model = cv2.face.LBPHFaceRecognizer_create()\n"
   ]
  },
  {
   "cell_type": "code",
   "execution_count": null,
   "id": "8cb70595",
   "metadata": {
    "scrolled": true,
    "tags": []
   },
   "outputs": [],
   "source": [
    "# select dataset and read images from it\n",
    "select_dataset = int(input(\"Select 1 for AT&T dataset and 2 for YaleB dataset: \"))\n",
    "if select_dataset == 1:\n",
    "    [X, y] = read_images(\"final_dataset/at&t\")\n",
    "    print(\"AT&T dataset loaded\")\n",
    "else:\n",
    "    [X, y] = read_images(\"final_dataset/yaleB\")\n",
    "    print(\"YaleB dataset loaded\")\n",
    "\n",
    "# split the dataset into training and testing sets\n",
    "X_train, X_test, y_train, y_test = train_test_split(X, y, test_size=0.2)\n"
   ]
  },
  {
   "cell_type": "code",
   "execution_count": null,
   "id": "ee961cdb",
   "metadata": {},
   "outputs": [],
   "source": [
    "# train the model on the training set\n",
    "model.train(X_train, numpy.array(y_train))\n"
   ]
  },
  {
   "cell_type": "code",
   "execution_count": null,
   "id": "9457030a",
   "metadata": {},
   "outputs": [],
   "source": [
    "def display_images(l,m):\n",
    "    # display the test image and the predicted person\n",
    "    fig = plt.figure(figsize=(5, 5))\n",
    "    fig.add_subplot(1, 2, 1)\n",
    "    plt.imshow(l, cmap=\"gray\")\n",
    "    plt.axis(\"off\")\n",
    "    # display the actual person\n",
    "    fig.add_subplot(1, 2, 2)\n",
    "    plt.imshow(m, cmap=\"gray\")\n",
    "    plt.axis(\"off\")\n",
    "    plt.show()\n",
    "\n",
    "total_tests = len(y_test)\n",
    "correct = 0\n",
    "accuracy = 0.0\n",
    "# test the model on the testing set and calculate accuracy\n",
    "for i in range(total_tests):\n",
    "    # predict the label of the test image\n",
    "    prediction, confidence = model.predict(X_test[i])\n",
    "    print( \" predicted =\", prediction, \"     \",\" expected =\", y_test[i])\n",
    "    print(\"    Test image        Actual person\")\n",
    "    display_images(X_test[i], X[prediction * 10])\n",
    "    print(\"\\n\")\n",
    "\n",
    "    # calculate accuracy\n",
    "    if prediction == y_test[i]:\n",
    "        correct = correct + 1\n",
    "\n",
    "accuracy = correct\n",
    "accuracy /= total_tests\n",
    "accuracy *= 100\n",
    "print(\"Accuracy: \", accuracy, \"%\")\n"
   ]
  }
 ],
 "metadata": {
  "kernelspec": {
   "display_name": "Python 3 (ipykernel)",
   "language": "python",
   "name": "python3"
  },
  "language_info": {
   "codemirror_mode": {
    "name": "ipython",
    "version": 3
   },
   "file_extension": ".py",
   "mimetype": "text/x-python",
   "name": "python",
   "nbconvert_exporter": "python",
   "pygments_lexer": "ipython3",
   "version": "3.10.6"
  },
  "vscode": {
   "interpreter": {
    "hash": "916dbcbb3f70747c44a77c7bcd40155683ae19c65e1c03b4aa3499c5328201f1"
   }
  }
 },
 "nbformat": 4,
 "nbformat_minor": 5
}
